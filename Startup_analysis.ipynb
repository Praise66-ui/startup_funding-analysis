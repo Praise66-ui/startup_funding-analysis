{
 "cells": [
  {
   "cell_type": "markdown",
   "id": "5965a548-aaaf-4583-9070-b059bfa10184",
   "metadata": {},
   "source": [
    "**DATA LOADING AND CLEANING**"
   ]
  },
  {
   "cell_type": "code",
   "execution_count": 16,
   "id": "ad679d1d-d34d-4779-ba7c-59c8e2fd8631",
   "metadata": {},
   "outputs": [],
   "source": [
    "import pandas as pd"
   ]
  },
  {
   "cell_type": "code",
   "execution_count": 17,
   "id": "e3b33cf6-234a-4c39-88a8-ddd1c073020e",
   "metadata": {},
   "outputs": [
    {
     "name": "stdout",
     "output_type": "stream",
     "text": [
      "       Startup    Industry  Funding Amount (USD) Funding Round Location  Year\n",
      "0     Paystack     Fintech               8500000      Series A    Lagos  2018\n",
      "1  Flutterwave     Fintech              10000000      Series A    Lagos  2019\n",
      "2         Kuda     Fintech              25000000      Series B    Lagos  2020\n",
      "3       54gene  HealthTech              15000000      Series A    Abuja  2020\n",
      "4       Andela      EdTech             100000000      Series D    Lagos  2019\n",
      "5    Jobberman      HRTech               5000000          Seed    Lagos  2018\n",
      "6    PiggyVest     Fintech               1000000          Seed    Lagos  2019\n",
      "<class 'pandas.core.frame.DataFrame'>\n",
      "RangeIndex: 18 entries, 0 to 17\n",
      "Data columns (total 6 columns):\n",
      " #   Column                Non-Null Count  Dtype \n",
      "---  ------                --------------  ----- \n",
      " 0   Startup               18 non-null     object\n",
      " 1   Industry              18 non-null     object\n",
      " 2   Funding Amount (USD)  18 non-null     int64 \n",
      " 3   Funding Round         18 non-null     object\n",
      " 4   Location              18 non-null     object\n",
      " 5   Year                  18 non-null     int64 \n",
      "dtypes: int64(2), object(4)\n",
      "memory usage: 996.0+ bytes\n",
      "None\n",
      "       Funding Amount (USD)         Year\n",
      "count          1.800000e+01    18.000000\n",
      "mean           1.220000e+07  2020.666667\n",
      "std            2.351363e+07     1.644957\n",
      "min            5.000000e+05  2018.000000\n",
      "25%            1.500000e+06  2019.250000\n",
      "50%            2.800000e+06  2021.000000\n",
      "75%            1.000000e+07  2022.000000\n",
      "max            1.000000e+08  2023.000000\n"
     ]
    },
    {
     "data": {
      "text/plain": [
       "(18, 6)"
      ]
     },
     "execution_count": 17,
     "metadata": {},
     "output_type": "execute_result"
    }
   ],
   "source": [
    "df = pd.read_csv('nigeria_startup_funding.csv')\n",
    "print(df.head(7))\n",
    "print(df.info())\n",
    "print(df.describe())\n",
    "df.shape"
   ]
  },
  {
   "cell_type": "code",
   "execution_count": 42,
   "id": "4dea7d15-a864-4a9c-8422-f7b659de3eda",
   "metadata": {},
   "outputs": [
    {
     "name": "stdout",
     "output_type": "stream",
     "text": [
      "       Startup    Industry Funding Amount(USD(,)) Funding Round Location  Year\n",
      "0     Paystack     Fintech              8,500,000      Series A    Lagos  2018\n",
      "1  Flutterwave     Fintech             10,000,000      Series A    Lagos  2019\n",
      "2         Kuda     Fintech             25,000,000      Series B    Lagos  2020\n",
      "3       54gene  HealthTech             15,000,000      Series A    Abuja  2020\n",
      "4       Andela      EdTech            100,000,000      Series D    Lagos  2019\n",
      "5    Jobberman      HRTech              5,000,000          Seed    Lagos  2018\n",
      "6    PiggyVest     Fintech              1,000,000          Seed    Lagos  2019\n"
     ]
    }
   ],
   "source": [
    "df[\"Funding Amount(USD(,))\"] = df['Funding Amount (USD)'].apply(lambda x: f\"{x:,}\")\n",
    "cleaned = df[[\"Startup\", \"Industry\", 'Funding Amount(USD(,))', \"Funding Round\", \"Location\", \"Year\"]]\n",
    "cleaned.to_csv(\"cleaned nigeria_startup_funding.csv\", index=False)\n",
    "new = pd.read_csv(\"cleaned nigeria_startup_funding.csv\")\n",
    "print(new.head(7))"
   ]
  },
  {
   "cell_type": "markdown",
   "id": "ff57ff9c-a3c9-45e1-ae34-2a2ce7b848b2",
   "metadata": {},
   "source": [
    "**EXPLORATORY DATA ANALYSIS**"
   ]
  },
  {
   "cell_type": "markdown",
   "id": "45274afb-fe90-434e-b4fb-6ae98ab62a36",
   "metadata": {},
   "source": [
    "How many startup got funded each year?"
   ]
  },
  {
   "cell_type": "code",
   "execution_count": 43,
   "id": "82f9f7ef-3ade-4a90-a761-de52b199e2d4",
   "metadata": {},
   "outputs": [
    {
     "name": "stdout",
     "output_type": "stream",
     "text": [
      "Year\n",
      "2018    2\n",
      "2019    3\n",
      "2020    3\n",
      "2021    4\n",
      "2022    3\n",
      "2023    3\n",
      "Name: Startup, dtype: int64\n"
     ]
    }
   ],
   "source": [
    "each_year_startup = new.groupby('Year')['Startup'].count()\n",
    "print(each_year_startup) "
   ]
  },
  {
   "cell_type": "markdown",
   "id": "26eba466-f1ad-4c88-8595-830dc523eefa",
   "metadata": {},
   "source": [
    "what are the top 5 startups with the highest funding?"
   ]
  },
  {
   "cell_type": "code",
   "execution_count": 44,
   "id": "a15a18d9-fbd7-4857-8bbb-da8fc8861e3b",
   "metadata": {},
   "outputs": [
    {
     "data": {
      "text/html": [
       "<div>\n",
       "<style scoped>\n",
       "    .dataframe tbody tr th:only-of-type {\n",
       "        vertical-align: middle;\n",
       "    }\n",
       "\n",
       "    .dataframe tbody tr th {\n",
       "        vertical-align: top;\n",
       "    }\n",
       "\n",
       "    .dataframe thead th {\n",
       "        text-align: right;\n",
       "    }\n",
       "</style>\n",
       "<table border=\"1\" class=\"dataframe\">\n",
       "  <thead>\n",
       "    <tr style=\"text-align: right;\">\n",
       "      <th></th>\n",
       "      <th>Startup</th>\n",
       "      <th>Industry</th>\n",
       "      <th>Funding Amount(USD(,))</th>\n",
       "      <th>Funding Round</th>\n",
       "      <th>Location</th>\n",
       "      <th>Year</th>\n",
       "    </tr>\n",
       "  </thead>\n",
       "  <tbody>\n",
       "    <tr>\n",
       "      <th>0</th>\n",
       "      <td>Paystack</td>\n",
       "      <td>Fintech</td>\n",
       "      <td>8,500,000</td>\n",
       "      <td>Series A</td>\n",
       "      <td>Lagos</td>\n",
       "      <td>2018</td>\n",
       "    </tr>\n",
       "    <tr>\n",
       "      <th>13</th>\n",
       "      <td>Vesti</td>\n",
       "      <td>Fintech</td>\n",
       "      <td>500,000</td>\n",
       "      <td>Pre-Seed</td>\n",
       "      <td>Lagos</td>\n",
       "      <td>2022</td>\n",
       "    </tr>\n",
       "    <tr>\n",
       "      <th>5</th>\n",
       "      <td>Jobberman</td>\n",
       "      <td>HRTech</td>\n",
       "      <td>5,000,000</td>\n",
       "      <td>Seed</td>\n",
       "      <td>Lagos</td>\n",
       "      <td>2018</td>\n",
       "    </tr>\n",
       "    <tr>\n",
       "      <th>15</th>\n",
       "      <td>Nomba</td>\n",
       "      <td>Fintech</td>\n",
       "      <td>30,000,000</td>\n",
       "      <td>Series A</td>\n",
       "      <td>Lagos</td>\n",
       "      <td>2023</td>\n",
       "    </tr>\n",
       "    <tr>\n",
       "      <th>7</th>\n",
       "      <td>Cowrywise</td>\n",
       "      <td>Fintech</td>\n",
       "      <td>3,000,000</td>\n",
       "      <td>Pre-Series A</td>\n",
       "      <td>Lagos</td>\n",
       "      <td>2021</td>\n",
       "    </tr>\n",
       "  </tbody>\n",
       "</table>\n",
       "</div>"
      ],
      "text/plain": [
       "      Startup Industry Funding Amount(USD(,)) Funding Round Location  Year\n",
       "0    Paystack  Fintech              8,500,000      Series A    Lagos  2018\n",
       "13      Vesti  Fintech                500,000      Pre-Seed    Lagos  2022\n",
       "5   Jobberman   HRTech              5,000,000          Seed    Lagos  2018\n",
       "15      Nomba  Fintech             30,000,000      Series A    Lagos  2023\n",
       "7   Cowrywise  Fintech              3,000,000  Pre-Series A    Lagos  2021"
      ]
     },
     "execution_count": 44,
     "metadata": {},
     "output_type": "execute_result"
    }
   ],
   "source": [
    "new.sort_values(by=\"Funding Amount(USD(,))\", ascending=False).head(5)"
   ]
  },
  {
   "cell_type": "markdown",
   "id": "4aaad5a8-aff5-4d4b-baab-8a609112fdd4",
   "metadata": {},
   "source": [
    "which industry has received the most funding overall?"
   ]
  },
  {
   "cell_type": "code",
   "execution_count": 62,
   "id": "07210066-8e8f-44f7-8912-171454c3d8ff",
   "metadata": {},
   "outputs": [
    {
     "name": "stdout",
     "output_type": "stream",
     "text": [
      "Industry\n",
      "EdTech        101000000\n",
      "Fintech        81500000\n",
      "HRTech          5000000\n",
      "HealthTech     26500000\n",
      "PropTech        2600000\n",
      "Tech            1500000\n",
      "Transport       1500000\n",
      "Name: Funding Amount (USD), dtype: int64\n"
     ]
    }
   ],
   "source": [
    "Each_Indus_Fund = df.groupby('Industry')['Funding Amount (USD)'].sum()\n",
    "print(Each_Indus_Fund) "
   ]
  },
  {
   "cell_type": "code",
   "execution_count": 75,
   "id": "35c51beb-e368-49ed-87af-783c082d3b3a",
   "metadata": {},
   "outputs": [
    {
     "name": "stdout",
     "output_type": "stream",
     "text": [
      "EdTech with a total of, 101000000\n"
     ]
    }
   ],
   "source": [
    "highest_fund = Each_Indus_Fund.max() \n",
    "industry = Each_Indus_Fund.idxmax()\n",
    "print(f\"{industry} with a total of, {highest_fund}\")"
   ]
  },
  {
   "cell_type": "markdown",
   "id": "f55336d4-bc7b-418e-8074-9685e1092b41",
   "metadata": {},
   "source": [
    "which city has highest startup funding?"
   ]
  },
  {
   "cell_type": "code",
   "execution_count": 85,
   "id": "ee0c7fba-c8ca-4d94-94c9-02dd374f9fc4",
   "metadata": {},
   "outputs": [
    {
     "name": "stdout",
     "output_type": "stream",
     "text": [
      "Lagos, with 204600000 startup fundings\n"
     ]
    }
   ],
   "source": [
    "each_city_fund = df.groupby('Location')['Funding Amount (USD)'].sum()\n",
    "highest_num_fund = each_city_fund.max()\n",
    "location = each_city_fund.idxmax()\n",
    "print(f\"{location}, with {highest_num_fund} startup fundings\")"
   ]
  },
  {
   "cell_type": "markdown",
   "id": "7399e24c-01b8-43d9-9634-f697ff258ca5",
   "metadata": {},
   "source": [
    "how much funding has each Funding Round received in total?"
   ]
  },
  {
   "cell_type": "code",
   "execution_count": 68,
   "id": "906682b9-2e38-4c16-a3a7-b3c78debf06b",
   "metadata": {},
   "outputs": [
    {
     "name": "stdout",
     "output_type": "stream",
     "text": [
      "Funding Round\n",
      "Pre-Seed          1500000\n",
      "Pre-Series A      3000000\n",
      "Seed             16600000\n",
      "Series A         73500000\n",
      "Series B         25000000\n",
      "Series D        100000000\n",
      "Name: Funding Amount (USD), dtype: int64\n"
     ]
    }
   ],
   "source": [
    "each_fund_round = df.groupby('Funding Round')['Funding Amount (USD)'].sum()\n",
    "print(each_fund_round)"
   ]
  },
  {
   "cell_type": "markdown",
   "id": "96db160f-1cd4-44c3-8996-61b4b3c4fd01",
   "metadata": {},
   "source": [
    "which year had the highest number of funded startups?"
   ]
  },
  {
   "cell_type": "code",
   "execution_count": 93,
   "id": "739559d0-8067-41ec-b71a-4431457a5937",
   "metadata": {},
   "outputs": [
    {
     "name": "stdout",
     "output_type": "stream",
     "text": [
      "2021, with 4 startups\n"
     ]
    }
   ],
   "source": [
    "highest_num_startups = each_year_startup.max()\n",
    "year = each_year_startup.idxmax()\n",
    "print(f\"{year}, with {highest_num_startups} startups\")"
   ]
  },
  {
   "cell_type": "markdown",
   "id": "b996fc0a-0702-4342-ac52-138852e63941",
   "metadata": {},
   "source": [
    "what the average funding amount by industry?"
   ]
  },
  {
   "cell_type": "code",
   "execution_count": 98,
   "id": "40750fad-fa1d-450a-8b1c-a86527f961c7",
   "metadata": {},
   "outputs": [
    {
     "name": "stdout",
     "output_type": "stream",
     "text": [
      "Industry\n",
      "EdTech        5.050000e+07\n",
      "Fintech       9.055556e+06\n",
      "HRTech        5.000000e+06\n",
      "HealthTech    8.833333e+06\n",
      "PropTech      2.600000e+06\n",
      "Tech          1.500000e+06\n",
      "Transport     1.500000e+06\n",
      "Name: Funding Amount (USD), dtype: float64\n"
     ]
    }
   ],
   "source": [
    "average_fund_Indus = df.groupby('Industry')['Funding Amount (USD)'].mean())\n",
    "print(average_fund_Indus)"
   ]
  },
  {
   "cell_type": "markdown",
   "id": "1998db2f-4dd7-4e05-9681-8a648d820bb0",
   "metadata": {},
   "source": [
    "**DATA VISUALIZATION**"
   ]
  },
  {
   "cell_type": "markdown",
   "id": "341b0791-2a93-4c57-a996-c82513e5a27b",
   "metadata": {},
   "source": [
    "bar chart: showing the Relationship between the total funding and/in an industry  "
   ]
  },
  {
   "cell_type": "code",
   "execution_count": 66,
   "id": "49a2864c-1a8a-4f3b-9a80-29f4823d4f7e",
   "metadata": {},
   "outputs": [],
   "source": [
    "import matplotlib.pyplot as plt"
   ]
  },
  {
   "cell_type": "code",
   "execution_count": 112,
   "id": "2073a2ce-de68-4d06-9e75-7d2e954f8c6b",
   "metadata": {},
   "outputs": [
    {
     "data": {
      "image/png": "[encoded data removed]",
      "text/plain": [
       "<Figure size 640x480 with 1 Axes>"
      ]
     },
     "metadata": {},
     "output_type": "display_data"
    }
   ],
   "source": [
    "Total_fund_Indus = df.groupby('Industry')['Funding Amount (USD)'].sum()\n",
    "Total_fund_Indus.plot(x= 'Industry', y= 'Funding Amount (USD)', kind='bar', color='blue')\n",
    "plt.title('Industry over Funding Amount (USD)')\n",
    "plt.xlabel('Industries')\n",
    "plt.grid(True)\n",
    "plt.ticklabel_format(style='plain', axis='y')\n",
    "plt.show()"
   ]
  },
  {
   "cell_type": "markdown",
   "id": "062b859a-d5ac-4d73-8703-d75fd8f32994",
   "metadata": {},
   "source": [
    "Pie chart: showing distribution of funding Rounds?"
   ]
  },
  {
   "cell_type": "code",
   "execution_count": 71,
   "id": "6e305169-05d6-466f-a3ce-054d01444a21",
   "metadata": {},
   "outputs": [
    {
     "data": {
      "image/png": "[encoded data removed]",
      "text/plain": [
       "<Figure size 640x480 with 1 Axes>"
      ]
     },
     "metadata": {},
     "output_type": "display_data"
    }
   ],
   "source": [
    "Funding_Rounds = df.groupby('Funding Round')['Funding Amount (USD)'].sum()\n",
    "Funding_Rounds.plot(kind='pie', autopct='%1.1f%%', title='Funding Round Distribution')\n",
    "plt.ylabel(\"\")\n",
    "plt.show()"
   ]
  },
  {
   "cell_type": "markdown",
   "id": "efe65adc-fda0-4852-ade1-87ff60739bc7",
   "metadata": {},
   "source": [
    "Line plot: showing number of startups funded per year?"
   ]
  },
  {
   "cell_type": "code",
   "execution_count": 73,
   "id": "86163056-117f-4e4b-ab34-3c6b72130830",
   "metadata": {},
   "outputs": [
    {
     "data": {
      "image/png": "[encoded data removed]",
      "text/plain": [
       "<Figure size 640x480 with 1 Axes>"
      ]
     },
     "metadata": {},
     "output_type": "display_data"
    }
   ],
   "source": [
    "startup_year = new.groupby('Year')['Startup'].count()\n",
    "startup_year.plot(x= 'Year', y= 'Startup', kind='line', color='blue')\n",
    "plt.title('Statup funded /year')\n",
    "plt.xlabel('year')\n",
    "plt.grid(True)\n",
    "plt.show()"
   ]
  },
  {
   "cell_type": "markdown",
   "id": "bc1c5d18-594f-409f-9967-b7a5c5fddb40",
   "metadata": {},
   "source": [
    "**INSIGHTS/CONCLUSION**"
   ]
  },
  {
   "cell_type": "markdown",
   "id": "9495828d-0d91-46c6-bc23-d3081e3c35a8",
   "metadata": {},
   "source": [
    "- From the overall analysis, Edtech with a totol $101 million, dominates all other industry in **funding**\n",
    "- From the overall analysis, funding in general, has decreased gradually over the years\n",
    "- from the overall analysis, Lagos is leading city with the highest startup fundings   "
   ]
  },
  {
   "cell_type": "markdown",
   "id": "26e524a4-bf36-4f4b-a5c4-64bd62223a1b",
   "metadata": {},
   "source": [
    "in conclusion, investors should focus on the Edtech industry in places like lagos for prominent and promising startup and fundings  "
   ]
  },
  {
   "cell_type": "code",
   "execution_count": null,
   "id": "e3eb70c2-17cd-40d5-a724-6374b857bef9",
   "metadata": {},
   "outputs": [],
   "source": []
  }
 ],
 "metadata": {
  "kernelspec": {
   "display_name": "Python 3 (ipykernel)",
   "language": "python",
   "name": "python3"
  },
  "language_info": {
   "codemirror_mode": {
    "name": "ipython",
    "version": 3
   },
   "file_extension": ".py",
   "mimetype": "text/x-python",
   "name": "python",
   "nbconvert_exporter": "python",
   "pygments_lexer": "ipython3",
   "version": "3.13.5"
  }
 },
 "nbformat": 4,
 "nbformat_minor": 5
}
